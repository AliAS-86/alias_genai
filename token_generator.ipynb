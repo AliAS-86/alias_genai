{
 "cells": [
  {
   "cell_type": "code",
   "execution_count": null,
   "metadata": {},
   "outputs": [],
   "source": [
    "# Generating one token at a time\n",
    "# Step 1: Load a tokenizer and a model\n",
    "\n",
    "from transformers import AutoModelForCausalLM, AutoTokenizer\n",
    "import torch\n",
    "\n",
    "# Load pretrained model and tokenizer using Huggingface\n",
    "tokenizer = AutoTokenizer.from_pretrained(\"gpt2\")\n",
    "\n",
    "model = AutoModelForCausalLM.from_pretrained(\"gpt2\")\n",
    "\n",
    "# Feed a a partial sentence to the tokenizer and tokenize it\n",
    "text = \"I am the captain of my\"\n",
    "# Tokenize the text input and map tokens to token IDs from the model vocabulary and return the tensors in PyTourch (PT) format\n",
    "inputs = tokenizer(text, return_tensors=\"pt\")\n",
    "\n",
    "# Retrieve the token IDs from the tokenized data dictionary\n",
    "inputs[\"input_ids\"]\n",
    "\n",
    "# convert the input text to tokens (not token IDs but the tokens)\n",
    "tokens = tokenizer.tokenize(text)\n",
    "print(tokens) # Output: ['I', 'Ġam', 'Ġthe', 'Ġcaptain', 'Ġof', 'Ġmy'], the Ġ indicate the presense of white space\n",
    "print(inputs)\n",
    "\n",
    "embeddings = model.transformer.wte # embedding layer\n",
    "dense_vector = embeddings(inputs[\"input_ids\"]) # passing the token IDs to the embedding layer to convert each token to it respective dense vector that is 768 values that capture the\n",
    "                                               # learned values about the token including context, syntax, semantic meaning, etc\n",
    "ste = dense_vector[0,3] # fetching only the dense vector for the 4th token, 'Ġcaptain' in this case, the tensor shape would be [768] meaning 1 raw = 1 token with 768 values\n",
    "# print(f\"dense vector: {dense_vector[0]}\")\n",
    "# print(dense_vector.shape)\n",
    "# print(dense_vector)\n",
    "\n",
    "print(f\"Single token embedding: {ste}\")\n",
    "print(f\"ste shape: {ste.shape}\")"
   ]
  },
  {
   "cell_type": "code",
   "execution_count": null,
   "metadata": {},
   "outputs": [],
   "source": [
    "# Examine the tokenizer by using pandas for visualization:\n",
    "\n",
    "import pandas as pd\n",
    "\n",
    "def view_tokenization(inputs):\n",
    "    return pd.DataFrame(\n",
    "        [(id, tokenizer.decode(id)) for id in inputs[\"input_ids\"][0]], columns=[\"id\", \"token\"],\n",
    "    )\n",
    "view_tokenization(inputs)"
   ]
  }
 ],
 "metadata": {
  "kernelspec": {
   "display_name": "venv",
   "language": "python",
   "name": "python3"
  },
  "language_info": {
   "codemirror_mode": {
    "name": "ipython",
    "version": 3
   },
   "file_extension": ".py",
   "mimetype": "text/x-python",
   "name": "python",
   "nbconvert_exporter": "python",
   "pygments_lexer": "ipython3",
   "version": "3.12.3"
  }
 },
 "nbformat": 4,
 "nbformat_minor": 2
}
